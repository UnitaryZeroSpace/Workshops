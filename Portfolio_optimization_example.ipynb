{
 "cells": [
  {
   "cell_type": "code",
   "execution_count": null,
   "metadata": {},
   "outputs": [],
   "source": [
    "import dimod #sampler API for both QUBO and Ising models\n",
    "from dwave.cloud import Client #how to be the client for the backend\n",
    "from dwave.system.samplers import DWaveSampler #more sampler stuff\n",
    "from dwave.system.composites import EmbeddingComposite #yet more sampler stuff\n",
    "import numpy as np #we need a matrix\n",
    "\n",
    "sampler = DWaveSampler(solver={'qpu': True}) #connect to a real QPU\n",
    "print(\"Connected to sampler\", sampler.solver.id)"
   ]
  },
  {
   "cell_type": "code",
   "execution_count": null,
   "metadata": {},
   "outputs": [],
   "source": [
    "mat = np.matrix([\n",
    "[0.063169,0.19892088,0.1422036,0.13172814,0.11127996,0.18648576,0.10866366,0.14380416,0.1794474,0.14488146],\n",
    "[0,-0.601696,0.2490048,0.24728608,0.28750832,0.61907456,0.33298104,0.20197056,0.380424,0.29597616],\n",
    "[0,0,-0.2644,0.091608,0.147378,0.37488,0.1809192,0.134904,0.178596,0.1760418],\n",
    "[0,0,0,0.281636,0.09740984,0.1182576,0.07350154,0.09727104,0.1923768,0.08711088],\n",
    "[0,0,0,0,-0.292956,0.26816416,0.25040862,0.17139232,0.2063292,0.22356158],\n",
    "[0,0,0,0,0,0.590496,0.30432304,0.24546688,0.3448896,0.27924016],\n",
    "[0,0,0,0,0,0,-1.311871,0.17912448,0.2699136,0.3861832],\n",
    "[0,0,0,0,0,0,0,-0.358944,0.1932546,0.15965621],\n",
    "[0,0,0,0,0,0,0,0,-1.2644,0.14966168],\n",
    "[0,0,0,0,0,0,0,0,0,-1.426471]])"
   ]
  },
  {
   "cell_type": "code",
   "execution_count": null,
   "metadata": {},
   "outputs": [],
   "source": [
    "bqm = dimod.BinaryQuadraticModel.from_numpy_matrix(mat) #create a binary quadratic model from our matrix"
   ]
  },
  {
   "cell_type": "code",
   "execution_count": null,
   "metadata": {},
   "outputs": [],
   "source": [
    "sampler = EmbeddingComposite(DWaveSampler()) #create a new sampler\n",
    "response = sampler.sample(bqm, num_reads=100) #run our model with the sampler 100 times"
   ]
  },
  {
   "cell_type": "code",
   "execution_count": null,
   "metadata": {},
   "outputs": [],
   "source": [
    "print(response) #print out the results"
   ]
  }
 ],
 "metadata": {
  "kernelspec": {
   "display_name": "Python 3",
   "language": "python",
   "name": "python3"
  },
  "language_info": {
   "codemirror_mode": {
    "name": "ipython",
    "version": 3
   },
   "file_extension": ".py",
   "mimetype": "text/x-python",
   "name": "python",
   "nbconvert_exporter": "python",
   "pygments_lexer": "ipython3",
   "version": "3.7.8"
  }
 },
 "nbformat": 4,
 "nbformat_minor": 4
}
